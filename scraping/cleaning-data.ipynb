{
 "cells": [
  {
   "cell_type": "code",
   "execution_count": 1,
   "metadata": {},
   "outputs": [],
   "source": [
    "import pandas as pd\n",
    "import matplotlib.pyplot as plt\n",
    "import datetime"
   ]
  },
  {
   "cell_type": "code",
   "execution_count": 6,
   "metadata": {},
   "outputs": [
    {
     "name": "stdout",
     "output_type": "stream",
     "text": [
      "Index(['24 апреля 2022 года',\n",
      "       'Выпуск программы «Воскресное Время» в 21:00 от 24.04.2022',\n",
      "       'Unnamed: 2',\n",
      "       'file:///news/2022-04-24/427233-vypusk_programmy_voskresnoe_vremya_v_21_00_ot_24_04_2022'],\n",
      "      dtype='object')\n",
      "     24 апреля 2022 года  \\\n",
      "0         24 апреля 2022   \n",
      "1         24 апреля 2022   \n",
      "2         24 апреля 2022   \n",
      "3         24 апреля 2022   \n",
      "4         24 апреля 2022   \n",
      "...                  ...   \n",
      "1154      03 апреля 2022   \n",
      "1155      03 апреля 2022   \n",
      "1156      03 апреля 2022   \n",
      "1157      03 апреля 2022   \n",
      "1158      03 апреля 2022   \n",
      "\n",
      "     Выпуск программы «Воскресное Время» в 21:00 от 24.04.2022  Unnamed: 2  \\\n",
      "0     Президент поддержал идею начинать каждую учебн...                NaN   \n",
      "1     Министр финансов США прокомментировала планы Е...                NaN   \n",
      "2     Правительство принимает меры, которые позволят...                NaN   \n",
      "3     Во Франции около двух часов назад завершился в...                NaN   \n",
      "4     Уже дважды за последние десять дней Джо Байден...                NaN   \n",
      "...                                                 ...                ...   \n",
      "1154              Выпуск новостей в 12:00 от 03.04.2022                NaN   \n",
      "1155  В российских регионах готовятся к паводкам, пи...                NaN   \n",
      "1156  Мощный снегопад обрушил на столицу половину ме...                NaN   \n",
      "1157  Власти разных европейских стран вынуждены выду...                NaN   \n",
      "1158  По всей России открываются пункты временного р...                NaN   \n",
      "\n",
      "     file:///news/2022-04-24/427233-vypusk_programmy_voskresnoe_vremya_v_21_00_ot_24_04_2022  \n",
      "0     file:///news/2022-04-24/427253-prezident_podde...                                       \n",
      "1     file:///news/2022-04-24/427252-ministr_finanso...                                       \n",
      "2     file:///news/2022-04-24/427251-pravitelstvo_pr...                                       \n",
      "3     file:///news/2022-04-24/427250-vo_frantsii_oko...                                       \n",
      "4     file:///news/2022-04-24/427249-uzhe_dvazhdy_za...                                       \n",
      "...                                                 ...                                       \n",
      "1154  file:///news/2022-04-03/425459-vypusk_novostey...                                       \n",
      "1155  file:///news/2022-04-03/425466-v_rossiyskih_re...                                       \n",
      "1156  file:///news/2022-04-03/425465-moschnyy_snegop...                                       \n",
      "1157  file:///news/2022-04-03/425464-vlasti_raznyh_e...                                       \n",
      "1158  file:///news/2022-04-03/425463-po_vsey_rossii_...                                       \n",
      "\n",
      "[1159 rows x 4 columns]\n"
     ]
    }
   ],
   "source": [
    "df = pd.read_csv(\"./usa.tsv\",sep='\\t')\n",
    "print(df.columns)\n",
    "print(df)"
   ]
  },
  {
   "cell_type": "code",
   "execution_count": 7,
   "metadata": {},
   "outputs": [
    {
     "name": "stdout",
     "output_type": "stream",
     "text": [
      "Index(['date', 'title', 'smth', 'link'], dtype='object')\n",
      "Index(['date', 'title', 'link'], dtype='object')\n"
     ]
    }
   ],
   "source": [
    "df.columns = [\"date\", \"title\",\"smth\",\"link\"]\n",
    "df.head()\n",
    "print(df.columns)\n",
    "del df['smth']\n",
    "print(df.columns)"
   ]
  },
  {
   "cell_type": "code",
   "execution_count": 86,
   "metadata": {},
   "outputs": [
    {
     "name": "stdout",
     "output_type": "stream",
     "text": [
      "            date  title                                               link\n",
      "0     2022-04-24   True  file:///news/2022-04-24/427240-zapadnye_druzya...\n",
      "1     2022-04-24  False  file:///news/2022-04-24/427229-v_rossiyu_iz_do...\n",
      "2     2022-04-24  False  file:///news/2022-04-24/427227-rossiyskoe_mino...\n",
      "3     2022-04-24  False  file:///news/2022-04-24/427215-minoborony_rf_o...\n",
      "4     2022-04-24  False  file:///news/2022-04-24/427216-rossiyskie_voen...\n",
      "...          ...    ...                                                ...\n",
      "12134 1999-07-21  False  file:///news/1999-07-21/294366-raketnyy_kreyse...\n",
      "12135 1999-07-21  False  file:///news/1999-07-20/294352-s_ukrainy_priho...\n",
      "12136 1999-07-20  False  file:///news/1999-07-18/294322-premier_ministr...\n",
      "12137 1999-07-18  False  file:///news/1999-07-17/294311-segodnya_stalo_...\n",
      "12138 1999-07-17  False  file:///news/1999-07-17/294301-premier_ministr...\n",
      "\n",
      "[12139 rows x 3 columns]\n"
     ]
    }
   ],
   "source": [
    "# drop rows that contain the partial string \n",
    "# df2 = df[df.title != \"Выпуск новостей\\*\"]\n",
    "# print(df2)"
   ]
  },
  {
   "cell_type": "code",
   "execution_count": 8,
   "metadata": {},
   "outputs": [
    {
     "name": "stdout",
     "output_type": "stream",
     "text": [
      "0       24 апреля 2022\n",
      "1       24 апреля 2022\n",
      "2       24 апреля 2022\n",
      "3       24 апреля 2022\n",
      "4       24 апреля 2022\n",
      "             ...      \n",
      "1154    03 апреля 2022\n",
      "1155    03 апреля 2022\n",
      "1156    03 апреля 2022\n",
      "1157    03 апреля 2022\n",
      "1158    03 апреля 2022\n",
      "Name: date, Length: 1159, dtype: object\n",
      "0      2022-04-24\n",
      "1      2022-04-24\n",
      "2      2022-04-24\n",
      "3      2022-04-24\n",
      "4      2022-04-24\n",
      "          ...    \n",
      "1154   2022-04-03\n",
      "1155   2022-04-03\n",
      "1156   2022-04-03\n",
      "1157   2022-04-03\n",
      "1158   2022-04-03\n",
      "Name: date, Length: 1159, dtype: datetime64[ns]\n"
     ]
    }
   ],
   "source": [
    "import locale\n",
    "from datetime import datetime\n",
    "print(df[\"date\"])\n",
    "\n",
    "date = []\n",
    "for n,d in enumerate(df[\"date\"]) :\n",
    "    value = d\n",
    "    locale.setlocale(locale.LC_TIME, 'ru_RU.UTF-8')\n",
    "    value = datetime.strptime(value, '%d %B %Y')\n",
    "    date.append(value)\n",
    "df[\"date\"] = date\n",
    "print(df[\"date\"])"
   ]
  },
  {
   "cell_type": "code",
   "execution_count": 9,
   "metadata": {},
   "outputs": [],
   "source": [
    "#to get a full csv\n",
    "df.to_csv(\"new_usa.tsv\", sep='\\t')"
   ]
  }
 ],
 "metadata": {
  "interpreter": {
   "hash": "31f2aee4e71d21fbe5cf8b01ff0e069b9275f58929596ceb00d14d90e3e16cd6"
  },
  "kernelspec": {
   "display_name": "Python 3.8.2 64-bit",
   "language": "python",
   "name": "python3"
  },
  "language_info": {
   "codemirror_mode": {
    "name": "ipython",
    "version": 3
   },
   "file_extension": ".py",
   "mimetype": "text/x-python",
   "name": "python",
   "nbconvert_exporter": "python",
   "pygments_lexer": "ipython3",
   "version": "3.10.4"
  },
  "orig_nbformat": 4
 },
 "nbformat": 4,
 "nbformat_minor": 2
}
