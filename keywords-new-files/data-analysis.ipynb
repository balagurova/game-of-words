{
 "cells": [
  {
   "cell_type": "code",
   "execution_count": 8,
   "metadata": {},
   "outputs": [],
   "source": [
    "import pandas as pd\n",
    "import matplotlib.pyplot as plt\n",
    "import datetime"
   ]
  },
  {
   "cell_type": "code",
   "execution_count": 2,
   "metadata": {},
   "outputs": [
    {
     "name": "stdout",
     "output_type": "stream",
     "text": [
      "Index(['24 апреля 2022 года',\n",
      "       'Выпуск программы «Воскресное Время» в 21:00 от 24.04.2022',\n",
      "       'https://www.1tv.ru/news/2022-04-24/427233-vypusk_programmy_voskresnoe_vremya_v_21_00_ot_24_04_2022'],\n",
      "      dtype='object')\n",
      "       24 апреля 2022 года  \\\n",
      "0      24 апреля 2022 года   \n",
      "1      24 апреля 2022 года   \n",
      "2      24 апреля 2022 года   \n",
      "3      24 апреля 2022 года   \n",
      "4      24 апреля 2022 года   \n",
      "...                    ...   \n",
      "5990  13 февраля 2022 года   \n",
      "5991  13 февраля 2022 года   \n",
      "5992  13 февраля 2022 года   \n",
      "5993  13 февраля 2022 года   \n",
      "5994  13 февраля 2022 года   \n",
      "\n",
      "     Выпуск программы «Воскресное Время» в 21:00 от 24.04.2022  \\\n",
      "0     Президент поддержал идею начинать каждую учебн...          \n",
      "1     Министр финансов США прокомментировала планы Е...          \n",
      "2     Правительство принимает меры, которые позволят...          \n",
      "3     Во Франции около двух часов назад завершился в...          \n",
      "4     Уже дважды за последние десять дней Джо Байден...          \n",
      "...                                                 ...          \n",
      "5990              Выпуск новостей в 12:00 от 13.02.2022          \n",
      "5991  Выдающийся тренер по фигурному катанию Татьяна...          \n",
      "5992  В Россию вернулись первые призеры Олимпийских ...          \n",
      "5993  В Венеции впервые с начала пандемии проходит з...          \n",
      "5994  В столице Мексики вакцину «Спутник V» получили...          \n",
      "\n",
      "     https://www.1tv.ru/news/2022-04-24/427233-vypusk_programmy_voskresnoe_vremya_v_21_00_ot_24_04_2022  \n",
      "0     https://www.1tv.ru/news/2022-04-24/427253-prez...                                                  \n",
      "1     https://www.1tv.ru/news/2022-04-24/427252-mini...                                                  \n",
      "2     https://www.1tv.ru/news/2022-04-24/427251-prav...                                                  \n",
      "3     https://www.1tv.ru/news/2022-04-24/427250-vo_f...                                                  \n",
      "4     https://www.1tv.ru/news/2022-04-24/427249-uzhe...                                                  \n",
      "...                                                 ...                                                  \n",
      "5990  https://www.1tv.ru/news/2022-02-13/421015-vypu...                                                  \n",
      "5991  https://www.1tv.ru/news/2022-02-13/421023-vyda...                                                  \n",
      "5992  https://www.1tv.ru/news/2022-02-13/421022-v_ro...                                                  \n",
      "5993  https://www.1tv.ru/news/2022-02-13/421021-v_ve...                                                  \n",
      "5994  https://www.1tv.ru/news/2022-02-13/421020-v_st...                                                  \n",
      "\n",
      "[5995 rows x 3 columns]\n"
     ]
    }
   ],
   "source": [
    "df = pd.read_csv(\"./1-channel.tsv\",sep='\\t')\n",
    "print(df.columns)\n",
    "print(df)"
   ]
  },
  {
   "cell_type": "code",
   "execution_count": 17,
   "metadata": {},
   "outputs": [
    {
     "name": "stdout",
     "output_type": "stream",
     "text": [
      "             date                                              title  \\\n",
      "0      2022-04-24  Западные «друзья Киева» соревнуются, кто больш...   \n",
      "1      2022-04-24  В Россию из Донбасса и с Украины приехали уже ...   \n",
      "2      2022-04-24  Российское Минобороны публикует новый список п...   \n",
      "3      2022-04-24  Минобороны РФ опубликовало новый список потерь...   \n",
      "4      2022-04-24  Российские военные за ночь выполнили более 420...   \n",
      "...           ...                                                ...   \n",
      "12134  1999-07-21  Ракетный крейсер «Москва» вернулся в Севастопо...   \n",
      "12135  1999-07-21  С Украины приходят сообщения о небывалом росте...   \n",
      "12136  1999-07-20  Премьер-министр Сергеи Степашин сегодня заверш...   \n",
      "12137  1999-07-18  Сегодня стало известно, что российский премьер...   \n",
      "12138  1999-07-17  Премьер-министр Сергей Степашин находится с ви...   \n",
      "\n",
      "                                                    link  \n",
      "0      file:///news/2022-04-24/427240-zapadnye_druzya...  \n",
      "1      file:///news/2022-04-24/427229-v_rossiyu_iz_do...  \n",
      "2      file:///news/2022-04-24/427227-rossiyskoe_mino...  \n",
      "3      file:///news/2022-04-24/427215-minoborony_rf_o...  \n",
      "4      file:///news/2022-04-24/427216-rossiyskie_voen...  \n",
      "...                                                  ...  \n",
      "12134  file:///news/1999-07-21/294366-raketnyy_kreyse...  \n",
      "12135  file:///news/1999-07-20/294352-s_ukrainy_priho...  \n",
      "12136  file:///news/1999-07-18/294322-premier_ministr...  \n",
      "12137  file:///news/1999-07-17/294311-segodnya_stalo_...  \n",
      "12138  file:///news/1999-07-17/294301-premier_ministr...  \n",
      "\n",
      "[12139 rows x 3 columns]\n"
     ]
    }
   ],
   "source": [
    "dataf = pd.read_csv(\"./new_ukraina.tsv\",sep='\\t')\n",
    "dataf = dataf.drop(dataf.columns[[0]],axis=1)\n",
    "print(dataf)\n",
    "\n",
    "dataf.to_csv(\"FIN_ukraina.csv\", sep=',', index=None)\n",
    "\n"
   ]
  },
  {
   "cell_type": "code",
   "execution_count": 3,
   "metadata": {},
   "outputs": [
    {
     "name": "stdout",
     "output_type": "stream",
     "text": [
      "Index(['date', 'title', 'link'], dtype='object')\n"
     ]
    }
   ],
   "source": [
    "df.columns = [\"date\", \"title\",\"link\"]\n",
    "df.head()\n",
    "print(df.columns)"
   ]
  },
  {
   "cell_type": "code",
   "execution_count": 151,
   "metadata": {},
   "outputs": [
    {
     "name": "stdout",
     "output_type": "stream",
     "text": [
      "{'президента', 'от', 'информационной', 'Отечественной', 'дипломатической', '«Тайные'}\n"
     ]
    }
   ],
   "source": [
    "# df['title'] = \n",
    "\n",
    "president = []\n",
    "\n",
    "for n,d in enumerate(df[\"title\"]) :\n",
    "    your_string = d\n",
    "    # print(your_string)\n",
    "    list_of_words = your_string.split()\n",
    "    # print(list_of_words)\n",
    "    try:\n",
    "        next_word = list_of_words[list_of_words.index(\"войны\") -1]\n",
    "        president.append(next_word)\n",
    "    except:\n",
    "        pass\n",
    "print(set(president))\n",
    "# print(president)\n",
    "\n",
    "\n",
    "  \n",
    "    "
   ]
  },
  {
   "cell_type": "code",
   "execution_count": 150,
   "metadata": {},
   "outputs": [
    {
     "name": "stdout",
     "output_type": "stream",
     "text": [
      "[['в ходе Великой Отечественной '], ['остается главным полигоном информационной ']]\n"
     ]
    }
   ],
   "source": [
    "import re\n",
    "# my_string=\"I love Apple juice, it is delicious.\"\n",
    "# re.search('(?<=I love )(\\w+)', my_string).group(1)\n",
    "\n",
    "# df['title'] = \n",
    "\n",
    "president = []\n",
    "\n",
    "for n,d in enumerate(df[\"title\"]) :\n",
    "    # str1 =  \"Hello, I would like наши военные to meet you at the train station of Berlin after 6 o' clock\"\n",
    "    try:\n",
    "        match = re.compile(r'((?:\\w+(?:\\s+|$)){4})+войны\\s').findall(d)\n",
    "        president.append(match)\n",
    "    except:\n",
    "        pass\n",
    "\n",
    "president = list(filter(None, president))\n",
    "\n",
    "print(president)\n",
    "\n",
    "# print(your_string)\n",
    "# try:\n",
    "#     next_word = match.findall(your_string)\n",
    "#     # president.append(next_word)\n",
    "# except:\n",
    "#     pass\n",
    "# # print(set(president))\n",
    "# print(next_word)\n",
    "\n",
    "\n",
    "  \n",
    "    "
   ]
  },
  {
   "cell_type": "code",
   "execution_count": null,
   "metadata": {},
   "outputs": [],
   "source": []
  },
  {
   "cell_type": "code",
   "execution_count": 5,
   "metadata": {},
   "outputs": [],
   "source": [
    "#to get a full csv\n",
    "df.to_csv(\"new_ukraina.csv\", sep=',',index=None)"
   ]
  },
  {
   "cell_type": "code",
   "execution_count": 20,
   "metadata": {},
   "outputs": [
    {
     "ename": "TypeError",
     "evalue": "read_csv() got an unexpected keyword argument 'index'",
     "output_type": "error",
     "traceback": [
      "\u001b[0;31m---------------------------------------------------------------------------\u001b[0m",
      "\u001b[0;31mTypeError\u001b[0m                                 Traceback (most recent call last)",
      "Input \u001b[0;32mIn [20]\u001b[0m, in \u001b[0;36m<cell line: 6>\u001b[0;34m()\u001b[0m\n\u001b[1;32m      3\u001b[0m     \u001b[38;5;66;03m# text = df[\"title\"].to_numpy()\u001b[39;00m\n\u001b[1;32m      4\u001b[0m df[\u001b[38;5;124m\"\u001b[39m\u001b[38;5;124mtitle\u001b[39m\u001b[38;5;124m\"\u001b[39m]\u001b[38;5;241m.\u001b[39mto_csv(\u001b[38;5;124m\"\u001b[39m\u001b[38;5;124mkeywords-text.txt\u001b[39m\u001b[38;5;124m\"\u001b[39m, header\u001b[38;5;241m=\u001b[39m\u001b[38;5;28;01mNone\u001b[39;00m, index\u001b[38;5;241m=\u001b[39m\u001b[38;5;28;01mNone\u001b[39;00m, sep\u001b[38;5;241m=\u001b[39m\u001b[38;5;124m'\u001b[39m\u001b[38;5;124m \u001b[39m\u001b[38;5;124m'\u001b[39m, mode\u001b[38;5;241m=\u001b[39m\u001b[38;5;124m'\u001b[39m\u001b[38;5;124ma\u001b[39m\u001b[38;5;124m'\u001b[39m)\n\u001b[0;32m----> 6\u001b[0m text \u001b[38;5;241m=\u001b[39m \u001b[43mpd\u001b[49m\u001b[38;5;241;43m.\u001b[39;49m\u001b[43mread_csv\u001b[49m\u001b[43m(\u001b[49m\u001b[38;5;124;43m\"\u001b[39;49m\u001b[38;5;124;43m./keywords-text.txt\u001b[39;49m\u001b[38;5;124;43m\"\u001b[39;49m\u001b[43m,\u001b[49m\u001b[43m \u001b[49m\u001b[43mheader\u001b[49m\u001b[38;5;241;43m=\u001b[39;49m\u001b[38;5;28;43;01mNone\u001b[39;49;00m\u001b[43m,\u001b[49m\u001b[43m \u001b[49m\u001b[43mindex\u001b[49m\u001b[38;5;241;43m=\u001b[39;49m\u001b[38;5;28;43;01mNone\u001b[39;49;00m\u001b[43m,\u001b[49m\u001b[43m \u001b[49m\u001b[43msep\u001b[49m\u001b[38;5;241;43m=\u001b[39;49m\u001b[38;5;124;43m'\u001b[39;49m\u001b[38;5;124;43m \u001b[39;49m\u001b[38;5;124;43m'\u001b[39;49m\u001b[43m)\u001b[49m\n\u001b[1;32m      7\u001b[0m \u001b[38;5;28mprint\u001b[39m(text)\n",
      "File \u001b[0;32m/Library/Frameworks/Python.framework/Versions/3.10/lib/python3.10/site-packages/pandas/util/_decorators.py:311\u001b[0m, in \u001b[0;36mdeprecate_nonkeyword_arguments.<locals>.decorate.<locals>.wrapper\u001b[0;34m(*args, **kwargs)\u001b[0m\n\u001b[1;32m    305\u001b[0m \u001b[38;5;28;01mif\u001b[39;00m \u001b[38;5;28mlen\u001b[39m(args) \u001b[38;5;241m>\u001b[39m num_allow_args:\n\u001b[1;32m    306\u001b[0m     warnings\u001b[38;5;241m.\u001b[39mwarn(\n\u001b[1;32m    307\u001b[0m         msg\u001b[38;5;241m.\u001b[39mformat(arguments\u001b[38;5;241m=\u001b[39marguments),\n\u001b[1;32m    308\u001b[0m         \u001b[38;5;167;01mFutureWarning\u001b[39;00m,\n\u001b[1;32m    309\u001b[0m         stacklevel\u001b[38;5;241m=\u001b[39mstacklevel,\n\u001b[1;32m    310\u001b[0m     )\n\u001b[0;32m--> 311\u001b[0m \u001b[38;5;28;01mreturn\u001b[39;00m \u001b[43mfunc\u001b[49m\u001b[43m(\u001b[49m\u001b[38;5;241;43m*\u001b[39;49m\u001b[43margs\u001b[49m\u001b[43m,\u001b[49m\u001b[43m \u001b[49m\u001b[38;5;241;43m*\u001b[39;49m\u001b[38;5;241;43m*\u001b[39;49m\u001b[43mkwargs\u001b[49m\u001b[43m)\u001b[49m\n",
      "\u001b[0;31mTypeError\u001b[0m: read_csv() got an unexpected keyword argument 'index'"
     ]
    }
   ],
   "source": [
    "\n",
    "\n",
    "    # text = \"\"\n",
    "df[\"title\"].to_csv(\"keywords-text.txt\", header=None, index=None, sep=' ', mode='a')\n",
    "\n",
    "text = pd.read_csv(\"./keywords-text.txt\", header=None, index=None, sep=' ')\n",
    "print(text)\n",
    "\n"
   ]
  },
  {
   "cell_type": "code",
   "execution_count": 41,
   "metadata": {},
   "outputs": [
    {
     "name": "stdout",
     "output_type": "stream",
     "text": [
      "Keyphrase:  России : score 1.2224736282118554e-06\n",
      "Keyphrase:  Выпуск : score 1.3981219398268239e-06\n",
      "Keyphrase:  Минобороны : score 3.2125293621134403e-06\n",
      "Keyphrase:  Украине : score 4.006614723225873e-06\n",
      "Keyphrase:  ДНР : score 8.210741641010233e-06\n",
      "Keyphrase:  США : score 1.532808237504996e-05\n",
      "Keyphrase:  Мариуполя : score 3.041412039492981e-05\n",
      "Keyphrase:  Сергей : score 4.0166579470658524e-05\n",
      "Keyphrase:  военные : score 5.795020271356841e-05\n",
      "Keyphrase:  Киева : score 8.959772745040557e-05\n",
      "Keyphrase:  что : score 0.0001938113788596994\n",
      "Keyphrase:  Байден : score 0.00024185078157000638\n",
      "Keyphrase:  из-за : score 0.0003582592634605403\n",
      "Keyphrase:  ФСБ : score 0.0003977938032199641\n",
      "Keyphrase:  АЭС : score 0.0004964069509440057\n",
      "Keyphrase:  Шойгу : score 0.0005704494389797433\n",
      "Keyphrase:  помощь : score 0.0005971541692902901\n",
      "Keyphrase:  Песков : score 0.0007289670237825432\n",
      "Keyphrase:  12:00 : score 0.0007612772976423361\n",
      "Keyphrase:  Олафом : score 0.0008840592216074506\n"
     ]
    }
   ],
   "source": [
    "import yake\n",
    "\n",
    "with open('./keywords-text.txt', 'r') as file:\n",
    "    text = file.read().replace('\\n', ' ').replace('\"', '')\n",
    "\n",
    "language = \"ru\"\n",
    "max_ngram_size = 1\n",
    "deduplication_thresold = 0.2\n",
    "deduplication_algo = 'seqm'\n",
    "windowSize = 1\n",
    "numOfKeywords = 20\n",
    "\n",
    "custom_kw_extractor = yake.KeywordExtractor(lan=language, stopwords=\"Выпуск\", n=max_ngram_size, dedupLim=deduplication_thresold, dedupFunc=deduplication_algo, windowsSize=windowSize, top=numOfKeywords, features=None)\n",
    "keywords = custom_kw_extractor.extract_keywords(text)\n",
    "\n",
    "\n",
    "for kw, v in keywords:\n",
    "  print(\"Keyphrase: \",kw, \": score\", v)\n"
   ]
  }
 ],
 "metadata": {
  "interpreter": {
   "hash": "31f2aee4e71d21fbe5cf8b01ff0e069b9275f58929596ceb00d14d90e3e16cd6"
  },
  "kernelspec": {
   "display_name": "Python 3.8.2 64-bit",
   "language": "python",
   "name": "python3"
  },
  "language_info": {
   "codemirror_mode": {
    "name": "ipython",
    "version": 3
   },
   "file_extension": ".py",
   "mimetype": "text/x-python",
   "name": "python",
   "nbconvert_exporter": "python",
   "pygments_lexer": "ipython3",
   "version": "3.10.4"
  },
  "orig_nbformat": 4
 },
 "nbformat": 4,
 "nbformat_minor": 2
}
